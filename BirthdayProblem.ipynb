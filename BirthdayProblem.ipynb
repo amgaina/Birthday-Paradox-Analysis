{
 "cells": [
  {
   "cell_type": "markdown",
   "id": "42d2c208-b23f-48cc-884d-7e737d7ba5b6",
   "metadata": {},
   "source": [
    "# Birthday Paradox Problem\n",
    "Have you ever noticed how sometimes what seems logical turns out to be proved false with a little math? For instance, how many people do you think it would take to survey, on average, to find two people who share the same birthday? Due to probability, sometimes an event is more likely to occur than we believe it to. In this case, if you survey a random group of just 23 people there is actually about a 50–50 chance that two of them will have the same birthday. This is known as the birthday paradox. Don't believe it's true? You can test it and see mathematical probability in action! I have provided the problem's analysis with this notebook. Let's Go through it."
   ]
  },
  {
   "cell_type": "code",
   "execution_count": 101,
   "id": "f59b8041-ddb1-4a29-a563-8f3e9ddb94a8",
   "metadata": {},
   "outputs": [],
   "source": [
    "import random"
   ]
  },
  {
   "cell_type": "code",
   "execution_count": 102,
   "id": "2e67b735-a293-4da5-9421-522ea5a261b1",
   "metadata": {},
   "outputs": [],
   "source": [
    "month_days = {\"Jan\": 31, \"Feb\":28, \"Mar\": 31, \"Apr\":30,\"May\":31 ,\"Jun\":30 ,\"Jul\":31 ,\"Aug\":31,\"Sep\":30,\"Oct\":30,\"Nov\":31,\"Dec\":31}"
   ]
  },
  {
   "cell_type": "markdown",
   "id": "c198496c-3d36-46bd-ab5f-4c270fdab1e8",
   "metadata": {},
   "source": [
    "## Function named get_random_bday that returns the random birthday"
   ]
  },
  {
   "cell_type": "code",
   "execution_count": 103,
   "id": "fadc6b12-add8-4479-9bae-ef22c897de8c",
   "metadata": {},
   "outputs": [],
   "source": [
    "def get_random_bday():\n",
    "    b_month = random.choice(list(month_days.keys()))\n",
    "    b_day = random.randint(1, month_days[b_month])\n",
    "    return (b_month, b_day)"
   ]
  },
  {
   "cell_type": "markdown",
   "id": "9243270b-3b1f-4c2e-a8d0-ff4c80381e05",
   "metadata": {},
   "source": [
    "## Function named get_bday_list that gives the random birthdays"
   ]
  },
  {
   "cell_type": "code",
   "execution_count": 104,
   "id": "ba1314e4-d907-48af-9631-ef70963793ab",
   "metadata": {},
   "outputs": [],
   "source": [
    "def get_bday_list(num_people):\n",
    "    b_day_list = [get_random_bday() for _ in range(num_people)]\n",
    "    return b_day_list"
   ]
  },
  {
   "cell_type": "markdown",
   "id": "5c3da3a4-86ad-4049-a7a0-71f6b5c3488a",
   "metadata": {},
   "source": [
    "## Function named isMatched that checks whether the list contains at least one matching birthday"
   ]
  },
  {
   "cell_type": "code",
   "execution_count": 105,
   "id": "a084d705-7115-42a1-9140-45f989ea6afd",
   "metadata": {},
   "outputs": [],
   "source": [
    "def isMatched(b_day_list):\n",
    "    matched = False\n",
    "    for i in range(len(b_day_list)-1):\n",
    "        for b_day in b_day_list[i+1:]:\n",
    "            if b_day_list[i][0] == b_day[0] and b_day_list[i][1] == b_day[1]:\n",
    "                matched = True\n",
    "                break\n",
    "    return matched"
   ]
  },
  {
   "cell_type": "markdown",
   "id": "acd5f461-e8f9-4be0-a0b1-35a16419f69d",
   "metadata": {},
   "source": [
    "## Function named num_matches that returns the number of the birthday match in the n trials"
   ]
  },
  {
   "cell_type": "code",
   "execution_count": 106,
   "id": "ebb2c632-979b-48d1-9071-f8f521513b11",
   "metadata": {},
   "outputs": [],
   "source": [
    "def num_matches(num_people, num_trials):\n",
    "    total_match = sum([isMatched(get_bday_list(num_people)) for _ in range(num_trials)])\n",
    "    probability = total_match / num_trials\n",
    "    return probability"
   ]
  },
  {
   "cell_type": "markdown",
   "id": "ed9b70d2-80d4-4f98-b978-6673b9a752bb",
   "metadata": {},
   "source": [
    "## Visualization of the output of the problem in the graph"
   ]
  },
  {
   "cell_type": "code",
   "execution_count": 107,
   "id": "e15018e8-640d-4ee5-8804-67c27083090c",
   "metadata": {},
   "outputs": [
    {
     "data": {
      "text/plain": [
       "[<matplotlib.lines.Line2D at 0x11f553ad0>]"
      ]
     },
     "execution_count": 107,
     "metadata": {},
     "output_type": "execute_result"
    },
    {
     "data": {
      "image/png": "[encoded data removed]",
      "text/plain": [
       "<Figure size 640x480 with 1 Axes>"
      ]
     },
     "metadata": {},
     "output_type": "display_data"
    }
   ],
   "source": [
    "import matplotlib.pyplot as plt\n",
    "k = 100\n",
    "n = 1000\n",
    "X = [x for x in range(k)]\n",
    "half = [0.5 for x in X]\n",
    "match_prob = [num_matches(y,n) for y in X]\n",
    "plt.plot(X, match_prob)\n",
    "plt.xlabel('k')\n",
    "plt.ylabel('Probability of Birthday Match')\n",
    "plt.plot(X, half)"
   ]
  },
  {
   "cell_type": "markdown",
   "id": "34f678ad-0a55-434d-8d74-63e83e4c03e2",
   "metadata": {},
   "source": [
    "The graph illustrates the probability of at least two people sharing the same birthday as the number of people in a group increases. The orange horizontal line represents a probability of 0.5, indicating a 50% chance of a shared birthday.\n",
    "\n",
    "**Conclusion**: From the graph, it is evident that when the number of people exceeds approximately 23 to 25, the probability of at least two people sharing the same birthday rapidly increases and consistently remains above 0.5. This suggests that in a group of around 23 to 25 individuals, there is a high likelihood of encountering at least one shared birthday.\n",
    "\n",
    "In summary, the findings demonstrate a significant increase in the probability of shared birthdays beyond a certain point, highlighting the surprising nature of the birthday problem and emphasizing the importance of understanding probability concepts in real-world scenarios."
   ]
  }
 ],
 "metadata": {
  "kernelspec": {
   "display_name": "Python 3 (ipykernel)",
   "language": "python",
   "name": "python3"
  },
  "language_info": {
   "codemirror_mode": {
    "name": "ipython",
    "version": 3
   },
   "file_extension": ".py",
   "mimetype": "text/x-python",
   "name": "python",
   "nbconvert_exporter": "python",
   "pygments_lexer": "ipython3",
   "version": "3.11.7"
  }
 },
 "nbformat": 4,
 "nbformat_minor": 5
}
